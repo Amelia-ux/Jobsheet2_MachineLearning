{
 "cells": [
  {
   "cell_type": "markdown",
   "metadata": {},
   "source": [
    "# Naive Bayes dengan Data Dummy\n",
    "\n",
    "Pada percobaan pertama ini kita akan menggunakan data dummy (sintentis) untuk membuat sebuah model Naive Bayes. Untuk membuat data dummy, kita dapat menggunakan fungsi `make_classification` dari library scikit-learn. Selanjutnya, kita akan membuat model Multinomial Naive Bayes dengan menggunakan `MultinomialNB` dan model Gaussian Naive Bayes menggunakan `GaussianNB`."
   ]
  },
  {
   "cell_type": "markdown",
   "metadata": {},
   "source": [
    "## Mendefiniskan Data Dummy"
   ]
  },
  {
   "cell_type": "code",
<<<<<<< HEAD
   "execution_count": 2,
   "metadata": {},
   "outputs": [
    {
     "name": "stdout",
     "output_type": "stream",
     "text": [
      "[[ 80   7]\n",
      " [128 191]\n",
      " [  4 196]\n",
      " [ 19 103]\n",
      " [ 70 144]\n",
      " [229  54]\n",
      " [ 38 130]\n",
      " [243  75]\n",
      " [ 79 118]\n",
      " [281 124]\n",
      " [ 15 170]\n",
      " [ 76  60]\n",
      " [162  83]\n",
      " [141   9]\n",
      " [159  54]\n",
      " [193  16]\n",
      " [ 35  47]\n",
      " [ 76  96]\n",
      " [ 49  66]\n",
      " [180  72]\n",
      " [105  32]\n",
      " [ 42 100]\n",
      " [198 114]\n",
      " [106  95]\n",
      " [ 34 168]\n",
      " [ 33 167]\n",
      " [143  56]\n",
      " [ 83 120]\n",
      " [ 43 155]\n",
      " [150  49]]\n",
      "[0 0 0 0 0 0 0 0 1 1 1 1 1 1 1 1 0 0 0 0 0 0 0 1 1 1 1 1 1 1]\n"
     ]
    }
   ],
=======
   "execution_count": 10,
   "metadata": {},
   "outputs": [],
>>>>>>> be4874da4dc40b63e17c633e507537eb1abcda4e
   "source": [
    "import numpy as np\n",
    "from sklearn.datasets import make_classification\n",
    "\n",
    "# Membuat data dummy\n",
    "# Hasil dari make_classification berupa data fitur X dan label y\n",
    "# Label y akan berupa data yang sudah di encode (angka)\n",
    "X,y = make_classification(n_samples=30, n_features=2, n_classes=2, n_informative=2, n_redundant=0, n_repeated=0, shuffle=False)\n",
    "\n",
    "# Secara defalt, make_classfication menghasilkan nilai float\n",
    "# Kita perlu merubah dalam bentuk diskrit\n",
    "\n",
    "# Absolutekan nilai\n",
    "X = np.absolute(X)\n",
    "\n",
    "# Bulatkan nilai ke 2 angka dibelakang koma\n",
    "# Kalikan dengan 100 supaya tidak ada lagi koma\n",
    "X = np.round(X, 2) * 100\n",
    "\n",
    "# Ubah ke dalam bentuk integer\n",
<<<<<<< HEAD
    "X = X.astype(int)\n",
    "print(X)\n",
    "print(y)"
=======
    "X = X.astype(int)"
>>>>>>> be4874da4dc40b63e17c633e507537eb1abcda4e
   ]
  },
  {
   "cell_type": "markdown",
   "metadata": {},
   "source": [
    "Parameter yang digunakan pada fungsi `make_classification` adalah,\n",
    "\n",
    "- n_samples: jumlah sampel yang diinginkan\n",
    "- n_features: jumlah fitur yang digunakan\n",
    "- n_classes: jumlah kelas\n",
    "- n_informative: jumlah fitur yang memiliki korelasi dengan kelas\n",
    "- n_redundant: jumlah fitur yang tidak memiliki korelasi dengan kelas\n",
    "- n_repeated: jumlah fitur yang diulang"
   ]
  },
  {
   "cell_type": "markdown",
   "metadata": {},
   "source": [
    "## (Opsional) Membuat Data Frame\n",
    "\n",
    "Agar data lebih mudah untuk dibaca, maka kita akan membuat DataFrame dengan menggunakan library Pandas berdasarkan data dummy yang telah dibuat sebelumnya"
   ]
  },
  {
   "cell_type": "code",
<<<<<<< HEAD
   "execution_count": 4,
=======
   "execution_count": 11,
>>>>>>> be4874da4dc40b63e17c633e507537eb1abcda4e
   "metadata": {},
   "outputs": [
    {
     "data": {
      "text/html": [
       "<div>\n",
       "<style scoped>\n",
       "    .dataframe tbody tr th:only-of-type {\n",
       "        vertical-align: middle;\n",
       "    }\n",
       "\n",
       "    .dataframe tbody tr th {\n",
       "        vertical-align: top;\n",
       "    }\n",
       "\n",
       "    .dataframe thead th {\n",
       "        text-align: right;\n",
       "    }\n",
       "</style>\n",
       "<table border=\"1\" class=\"dataframe\">\n",
       "  <thead>\n",
       "    <tr style=\"text-align: right;\">\n",
       "      <th></th>\n",
       "      <th>Fitur 1</th>\n",
       "      <th>Fitur 2</th>\n",
       "      <th>Label</th>\n",
       "    </tr>\n",
       "  </thead>\n",
       "  <tbody>\n",
       "    <tr>\n",
       "      <th>0</th>\n",
<<<<<<< HEAD
       "      <td>80</td>\n",
       "      <td>7</td>\n",
=======
       "      <td>156</td>\n",
       "      <td>36</td>\n",
>>>>>>> be4874da4dc40b63e17c633e507537eb1abcda4e
       "      <td>0</td>\n",
       "    </tr>\n",
       "    <tr>\n",
       "      <th>1</th>\n",
<<<<<<< HEAD
       "      <td>128</td>\n",
       "      <td>191</td>\n",
=======
       "      <td>56</td>\n",
       "      <td>135</td>\n",
>>>>>>> be4874da4dc40b63e17c633e507537eb1abcda4e
       "      <td>0</td>\n",
       "    </tr>\n",
       "    <tr>\n",
       "      <th>2</th>\n",
<<<<<<< HEAD
       "      <td>4</td>\n",
       "      <td>196</td>\n",
=======
       "      <td>79</td>\n",
       "      <td>76</td>\n",
>>>>>>> be4874da4dc40b63e17c633e507537eb1abcda4e
       "      <td>0</td>\n",
       "    </tr>\n",
       "    <tr>\n",
       "      <th>3</th>\n",
<<<<<<< HEAD
       "      <td>19</td>\n",
       "      <td>103</td>\n",
=======
       "      <td>161</td>\n",
       "      <td>39</td>\n",
>>>>>>> be4874da4dc40b63e17c633e507537eb1abcda4e
       "      <td>0</td>\n",
       "    </tr>\n",
       "    <tr>\n",
       "      <th>4</th>\n",
<<<<<<< HEAD
       "      <td>70</td>\n",
       "      <td>144</td>\n",
=======
       "      <td>123</td>\n",
       "      <td>77</td>\n",
>>>>>>> be4874da4dc40b63e17c633e507537eb1abcda4e
       "      <td>0</td>\n",
       "    </tr>\n",
       "  </tbody>\n",
       "</table>\n",
       "</div>"
      ],
      "text/plain": [
       "   Fitur 1  Fitur 2  Label\n",
<<<<<<< HEAD
       "0       80        7      0\n",
       "1      128      191      0\n",
       "2        4      196      0\n",
       "3       19      103      0\n",
       "4       70      144      0"
      ]
     },
     "execution_count": 4,
=======
       "0      156       36      0\n",
       "1       56      135      0\n",
       "2       79       76      0\n",
       "3      161       39      0\n",
       "4      123       77      0"
      ]
     },
     "execution_count": 11,
>>>>>>> be4874da4dc40b63e17c633e507537eb1abcda4e
     "metadata": {},
     "output_type": "execute_result"
    }
   ],
   "source": [
    "import pandas as pd\n",
    "\n",
    "# Reshape label y menjadi 2D\n",
    "# Hal ini dilakukan karena kita akan menggabungkannya dengan data fitur X\n",
    "y_new = y.reshape(len(y), 1)\n",
    "\n",
    "# Gabungkan fitur X dan label y dalam data array\n",
    "data = np.concatenate((X, y_new), axis=1)\n",
    "\n",
    "# Definisikan nama kolom\n",
    "columns = ['Fitur 1', 'Fitur 2', 'Label']\n",
    "\n",
    "# Buat Data Frame\n",
    "df = pd.DataFrame(data, columns=columns)\n",
    "\n",
    "# Cek Data Frame\n",
    "df.head()"
   ]
  },
  {
   "cell_type": "markdown",
   "metadata": {},
   "source": [
    "Dikarenakan label masih berbetuk encoding angka, untuk mempermudah pembacaan data, kita dapat mengubah bentuknya dalam bentuk kategorial"
   ]
  },
  {
   "cell_type": "code",
<<<<<<< HEAD
   "execution_count": 6,
=======
   "execution_count": 12,
>>>>>>> be4874da4dc40b63e17c633e507537eb1abcda4e
   "metadata": {},
   "outputs": [
    {
     "data": {
      "text/html": [
       "<div>\n",
       "<style scoped>\n",
       "    .dataframe tbody tr th:only-of-type {\n",
       "        vertical-align: middle;\n",
       "    }\n",
       "\n",
       "    .dataframe tbody tr th {\n",
       "        vertical-align: top;\n",
       "    }\n",
       "\n",
       "    .dataframe thead th {\n",
       "        text-align: right;\n",
       "    }\n",
       "</style>\n",
       "<table border=\"1\" class=\"dataframe\">\n",
       "  <thead>\n",
       "    <tr style=\"text-align: right;\">\n",
       "      <th></th>\n",
       "      <th>Fitur 1</th>\n",
       "      <th>Fitur 2</th>\n",
       "      <th>Label</th>\n",
       "    </tr>\n",
       "  </thead>\n",
       "  <tbody>\n",
       "    <tr>\n",
       "      <th>0</th>\n",
<<<<<<< HEAD
       "      <td>80</td>\n",
       "      <td>7</td>\n",
=======
       "      <td>156</td>\n",
       "      <td>36</td>\n",
>>>>>>> be4874da4dc40b63e17c633e507537eb1abcda4e
       "      <td>Kelas B</td>\n",
       "    </tr>\n",
       "    <tr>\n",
       "      <th>1</th>\n",
<<<<<<< HEAD
       "      <td>128</td>\n",
       "      <td>191</td>\n",
=======
       "      <td>56</td>\n",
       "      <td>135</td>\n",
>>>>>>> be4874da4dc40b63e17c633e507537eb1abcda4e
       "      <td>Kelas B</td>\n",
       "    </tr>\n",
       "    <tr>\n",
       "      <th>2</th>\n",
<<<<<<< HEAD
       "      <td>4</td>\n",
       "      <td>196</td>\n",
=======
       "      <td>79</td>\n",
       "      <td>76</td>\n",
>>>>>>> be4874da4dc40b63e17c633e507537eb1abcda4e
       "      <td>Kelas B</td>\n",
       "    </tr>\n",
       "    <tr>\n",
       "      <th>3</th>\n",
<<<<<<< HEAD
       "      <td>19</td>\n",
       "      <td>103</td>\n",
=======
       "      <td>161</td>\n",
       "      <td>39</td>\n",
>>>>>>> be4874da4dc40b63e17c633e507537eb1abcda4e
       "      <td>Kelas B</td>\n",
       "    </tr>\n",
       "    <tr>\n",
       "      <th>4</th>\n",
<<<<<<< HEAD
       "      <td>70</td>\n",
       "      <td>144</td>\n",
=======
       "      <td>123</td>\n",
       "      <td>77</td>\n",
>>>>>>> be4874da4dc40b63e17c633e507537eb1abcda4e
       "      <td>Kelas B</td>\n",
       "    </tr>\n",
       "  </tbody>\n",
       "</table>\n",
       "</div>"
      ],
      "text/plain": [
       "   Fitur 1  Fitur 2    Label\n",
<<<<<<< HEAD
       "0       80        7  Kelas B\n",
       "1      128      191  Kelas B\n",
       "2        4      196  Kelas B\n",
       "3       19      103  Kelas B\n",
       "4       70      144  Kelas B"
      ]
     },
     "execution_count": 6,
=======
       "0      156       36  Kelas B\n",
       "1       56      135  Kelas B\n",
       "2       79       76  Kelas B\n",
       "3      161       39  Kelas B\n",
       "4      123       77  Kelas B"
      ]
     },
     "execution_count": 12,
>>>>>>> be4874da4dc40b63e17c633e507537eb1abcda4e
     "metadata": {},
     "output_type": "execute_result"
    }
   ],
   "source": [
    "# Definisikan nama label\n",
    "labels = {\n",
    "    1 : 'Kelas A',\n",
    "    0 : 'Kelas B'\n",
    "}\n",
    "\n",
    "# Copy Data Frame untuk menyimpan Data Frame baru\n",
    "# dengan label yang mudah untuk dibaca\n",
    "df_label = df.copy()\n",
    "\n",
    "# Ubah label dengan fungsi mapping dari Pandas\n",
    "# pada Data Frame df_label\n",
    "df_label['Label'] = df_label['Label'].map(labels)\n",
    "\n",
    "# Cek Data Frame df_label\n",
    "df_label.head()"
   ]
  },
  {
   "cell_type": "markdown",
   "metadata": {},
   "source": [
    "## (Opsional) Visualisasi Data"
   ]
  },
  {
   "cell_type": "code",
<<<<<<< HEAD
   "execution_count": 7,
=======
   "execution_count": 13,
>>>>>>> be4874da4dc40b63e17c633e507537eb1abcda4e
   "metadata": {},
   "outputs": [
    {
     "data": {
<<<<<<< HEAD
      "image/png": "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",
=======
      "image/png": "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",
>>>>>>> be4874da4dc40b63e17c633e507537eb1abcda4e
      "text/plain": [
       "<Figure size 432x288 with 1 Axes>"
      ]
     },
     "metadata": {
      "needs_background": "light"
     },
     "output_type": "display_data"
    }
   ],
   "source": [
    "import matplotlib.pyplot as plt\n",
    "\n",
    "# Definisikan warna untuk setiap kelas\n",
    "colors = {\n",
    "    'class_a': 'MediumVioletRed',\n",
    "    'class_b': 'Navy'\n",
    "}\n",
    "\n",
    "# Kelompokkan label berdasarkan nama kelas\n",
    "gb = df_label.groupby(['Label'])\n",
    "class_a = gb.get_group('Kelas A')\n",
    "class_b = gb.get_group('Kelas B')\n",
    "\n",
    "# Plot\n",
    "plt.scatter(x=class_a['Fitur 1'], y=class_a['Fitur 2'], c=colors['class_a'])\n",
    "plt.scatter(x=class_b['Fitur 1'], y=class_b['Fitur 2'], c=colors['class_b'])\n",
    "plt.xlabel('Fitur 1')\n",
    "plt.ylabel('Fitur 2')\n",
    "plt.legend(['Kelas A', 'Kelas B'])\n",
    "plt.gca().axes.xaxis.set_ticklabels([])\n",
    "plt.gca().axes.yaxis.set_ticklabels([])\n",
    "plt.show()"
   ]
  },
  {
   "cell_type": "markdown",
   "metadata": {},
   "source": [
    "## Klasifikasi Multinomial Naive Bayes"
   ]
  },
  {
   "cell_type": "code",
<<<<<<< HEAD
   "execution_count": 8,
=======
   "execution_count": 14,
>>>>>>> be4874da4dc40b63e17c633e507537eb1abcda4e
   "metadata": {},
   "outputs": [
    {
     "name": "stdout",
     "output_type": "stream",
     "text": [
<<<<<<< HEAD
      "Hasil akurasi data test: 0.6190476190476191\n",
      "Hasil akurasi data test: 0.3333333333333333\n"
=======
      "Hasil akurasi data test: 0.5714285714285714\n",
      "Hasil akurasi data test: 0.6666666666666666\n"
>>>>>>> be4874da4dc40b63e17c633e507537eb1abcda4e
     ]
    }
   ],
   "source": [
    "from sklearn.naive_bayes import MultinomialNB # class untuk model MultinomialNB\n",
    "from sklearn.model_selection import train_test_split\n",
    "from sklearn.metrics import accuracy_score # evaluasi model berdasarkan akurasi\n",
    "\n",
    "# Inisiasi obyek MultinomialNB\n",
    "mnb = MultinomialNB()\n",
    "\n",
    "# Kita dapat langsung menggunakan fitur X dan label y\n",
    "# hasil dari proses pembuatan data dummy\n",
    "\n",
    "# Split data training dan testing\n",
    "X_train, X_test, y_train, y_test = train_test_split(X,y, test_size=0.3, random_state=30)\n",
    "\n",
    "# Fit model\n",
    "# Label y harus dalam bentu 1D atau (n_samples,)\n",
    "mnb.fit(X_train, y_train)\n",
    "\n",
    "# Prediksi dengan data training\n",
    "y_train_pred = mnb.predict(X_train)\n",
    "\n",
    "# Evaluasi akurasi training\n",
    "acc_train = accuracy_score(y_train, y_train_pred)\n",
    "\n",
    "# Prediksi test data\n",
    "y_test_pred = mnb.predict(X_test)\n",
    "\n",
    "# Evaluasi model dengan metric akurasi\n",
    "acc_test = accuracy_score(y_test, y_test_pred)\n",
    "\n",
    "# Print hasil evaluasi\n",
    "print(f'Hasil akurasi data test: {acc_train}')\n",
    "print(f'Hasil akurasi data test: {acc_test}')"
   ]
  },
  {
   "cell_type": "markdown",
   "metadata": {},
   "source": [
    "## Klasifikasi Gaussian Naive Bayes"
   ]
  },
  {
   "cell_type": "code",
<<<<<<< HEAD
   "execution_count": 9,
=======
   "execution_count": 15,
>>>>>>> be4874da4dc40b63e17c633e507537eb1abcda4e
   "metadata": {},
   "outputs": [
    {
     "name": "stdout",
     "output_type": "stream",
     "text": [
<<<<<<< HEAD
      "Hasil akurasi data train (Gaussian): 0.6190476190476191\n",
      "Hasil akurasi data test (Gaussian): 0.4444444444444444\n"
=======
      "Hasil akurasi data train (Gaussian): 0.7619047619047619\n",
      "Hasil akurasi data test (Gaussian): 0.3333333333333333\n"
>>>>>>> be4874da4dc40b63e17c633e507537eb1abcda4e
     ]
    }
   ],
   "source": [
    "from sklearn.naive_bayes import GaussianNB # class untuk model GaussianNB\n",
    "\n",
    "# Inisiasi obyek Gaussian\n",
    "gnb = GaussianNB()\n",
    "\n",
    "# Kita menggunakan split data training dan testing\n",
    "# yang sama dengan model multinomial\n",
    "\n",
    "# Fit model\n",
    "# Label y harus dalam bentu 1D atau (n_samples,)\n",
    "gnb.fit(X_train, y_train)\n",
    "\n",
    "# Prediksi dengan data training\n",
    "y_train_pred_gnb = gnb.predict(X_train)\n",
    "\n",
    "# Evaluasi akurasi training\n",
    "acc_train_gnb = accuracy_score(y_train, y_train_pred_gnb)\n",
    "\n",
    "# Prediksi test data\n",
    "y_test_pred_gnb = gnb.predict(X_test)\n",
    "\n",
    "# Evaluasi model dengan metric akurasi\n",
    "acc_test_gnb = accuracy_score(y_test, y_test_pred_gnb)\n",
    "\n",
    "# Print hasil evaluasi\n",
    "print(f'Hasil akurasi data train (Gaussian): {acc_train_gnb}')\n",
    "print(f'Hasil akurasi data test (Gaussian): {acc_test_gnb}')"
   ]
<<<<<<< HEAD
  },
  {
   "cell_type": "code",
   "execution_count": null,
   "metadata": {},
   "outputs": [],
   "source": []
=======
>>>>>>> be4874da4dc40b63e17c633e507537eb1abcda4e
  }
 ],
 "metadata": {
  "kernelspec": {
<<<<<<< HEAD
   "display_name": "Python 3.8.8 ('base')",
=======
   "display_name": "Python 3.8.2 ('base')",
>>>>>>> be4874da4dc40b63e17c633e507537eb1abcda4e
   "language": "python",
   "name": "python3"
  },
  "language_info": {
   "codemirror_mode": {
    "name": "ipython",
    "version": 3
   },
   "file_extension": ".py",
   "mimetype": "text/x-python",
   "name": "python",
   "nbconvert_exporter": "python",
   "pygments_lexer": "ipython3",
<<<<<<< HEAD
   "version": "3.8.8"
=======
   "version": "3.8.2"
>>>>>>> be4874da4dc40b63e17c633e507537eb1abcda4e
  },
  "orig_nbformat": 4,
  "vscode": {
   "interpreter": {
<<<<<<< HEAD
    "hash": "a21f9f9612dddc43ff5734f8a84754e4ceb4e706f4872e3a6b260b40c317c74b"
=======
    "hash": "398dc28c06ad810e77de546bbdfa897a6ee0b83e59a5207339dda01a7843e01d"
>>>>>>> be4874da4dc40b63e17c633e507537eb1abcda4e
   }
  }
 },
 "nbformat": 4,
 "nbformat_minor": 2
}
