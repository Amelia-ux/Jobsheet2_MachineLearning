{
 "cells": [
  {
   "cell_type": "markdown",
   "metadata": {},
   "source": [
    "# Tugas\n",
    "\n",
    "## Tugas 1\n",
    "\n",
    "Buatlah model klasfikasi Multinomial Naive Bayes dengan ketentuan,\n",
    "\n",
    "1. Menggunakan data `spam.csv`\n",
    "2. Fitur `CountVectorizer` dengan mengaktifkan **stop_words**\n",
    "3. Evaluasi hasilnya\n",
    "\n",
    "## Tugas 2\n",
    "\n",
    "Buatlah model klasfikasi Multinomial Naive Bayes dengan ketentuan,\n",
    "\n",
    "1. Menggunakan data `spam.csv`\n",
    "2. Fitur `TF-IDF` dengan mengaktifkan **stop_words**\n",
    "3. Evaluasi hasilnya dan bandingkan dengan hasil tugas 1.\n",
    "4. Berikan kesimpulan fitur mana yang terbaik pada kasus data `spam.csv`"
   ]
  },
  {
   "cell_type": "markdown",
   "metadata": {},
   "source": []
  }
 ],
 "metadata": {
<<<<<<< HEAD
  "kernelspec": {
   "display_name": "Python 3.9.7 64-bit",
   "language": "python",
   "name": "python3"
  },
  "language_info": {
   "name": "python",
   "version": "3.9.7"
  },
  "orig_nbformat": 4,
  "vscode": {
   "interpreter": {
    "hash": "8d9bc879f199ac5062d9346d5cb0bdf6e25c7ef4d7aa17397db4dd377347a650"
   }
  }
=======
  "language_info": {
   "name": "python"
  },
  "orig_nbformat": 4
>>>>>>> be4874da4dc40b63e17c633e507537eb1abcda4e
 },
 "nbformat": 4,
 "nbformat_minor": 2
}
