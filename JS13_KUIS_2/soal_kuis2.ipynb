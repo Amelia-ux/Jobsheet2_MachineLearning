{
 "cells": [
  {
   "cell_type": "markdown",
   "metadata": {},
   "source": [
    "# KUIS 2 Pembelajaran Mesin\n",
    "<b>IDENTITAS</b>\n",
    "\n",
    "NIM : 2041720041\n",
    "\n",
    "Nama : Amelia Marshanda S\n",
    "\n",
    "Kelas : TI - 3B\n",
    "\n",
    "## Tentang dataset\n",
    "\n",
    "Pada sebuah lembaga kemanusiaan berbasis teknologi informasi, dibentuk beberapa tim kemanusiaan yang bertugas untuk terjun ke masyarakat memberikan bantuan dalam bentuk aplikasi komputer atau layanan pelatihan IT.  Kegiatn tersebut dilaksanakan setiap tahun dengan ketentuan anggota organisasi tersebut dapat bergabung ke beberapa tim sebagai ketua atau anggota. Terdapat pula anggota yang sudah tidak aktif di organisasi tersebut (terhapus di database mereka —> label N/A).  Organisasi tersebut juga melakukan rekrutmen volunteer, namun tidak semua tim menggunakan bantuan volunteer. Hasil kegiatan dari setiap tim dapat diwujudkan ke dalam sebuah pengakuan hak cipta atau publikasi karya ilmiah atau publikasi berita di media massa.\n",
    "\n",
    "## Ketentuan\n",
    "1. Pengerjaan secara individu alias setiap mahasiswa!\n",
    "2. Terdapat data dengan nilai #N/A, pertimbangkan cara terbaik untuk mengatasi nilai tersebut.\n",
    "3. Tidak boleh ada duplikasi pekerjaan antar mahasiswa\n",
    "4. Berikan penjelasan untuk setiap tahapan. Jangan hanya kode!\n",
    "\n",
    "## Soal\n",
    "1. Lakukan pemilahan data training dan testing yang sesuai dan proporsional dari data tersebut! (10 poin)\n",
    "2. Tentukan data validasi! (10 poin)\n",
    "3. Tentukan secara tepat kolom yang menjadi \"label\" (20 poin)\n",
    "4. Terapkan dua jenis metode klasifikasi dan lakukan perbandingan akurasi  dengan wajib melibatkan variabel keterlibatan volunteer sampai variabel luaran-luaran yang dihasilkan! (20 poin)\n",
    "5. Lakukan tunning hyperparameter berdasarkan hasil klasifikasi pada nomor 3 menggunakan metode Grid Search dan Random Search! Simpulkan parameter apa yang paling baik digunakan berdasarkan metode klasifikasi yang dipilih, dan berapa akurasinya. (40 poin)"
   ]
  },
  {
   "cell_type": "markdown",
   "metadata": {},
   "source": [
    "### Persiapan Data"
   ]
  },
  {
   "cell_type": "code",
   "execution_count": null,
   "metadata": {},
   "outputs": [],
   "source": [
    "#import library\n",
    "import pandas as pd\n",
    "\n",
    "# load dataset\n",
    "df = pd.read_excel('data/dataset_quiz.xlsx')\n",
    "df.head(100)"
   ]
  },
  {
   "cell_type": "markdown",
   "metadata": {},
   "source": [
    "Mengelola data dengan nilai #N/A"
   ]
  },
  {
   "cell_type": "code",
   "execution_count": 12,
   "metadata": {},
   "outputs": [
    {
     "data": {
      "text/plain": [
       "id_ketua               3\n",
       "id_anggota1            5\n",
       "id_anggota2            4\n",
       "id_anggota3            3\n",
       "id_anggota4           13\n",
       "id_anggota5           84\n",
       "keterlibatan_vltr      0\n",
       "jml_vltr_terlibat      0\n",
       "tahun                  0\n",
       "skema                  0\n",
       "luaran_hki             0\n",
       "jenis_luaran_hki       0\n",
       "potensi_hki            0\n",
       "luaran_lain            0\n",
       "jenis_luaran_lain      0\n",
       "status_luaran_lain     0\n",
       "dtype: int64"
      ]
     },
     "execution_count": 12,
     "metadata": {},
     "output_type": "execute_result"
    }
   ],
   "source": [
    "# melihat data yang kosong\n",
    "df.isnull().sum()"
   ]
  },
  {
   "cell_type": "code",
   "execution_count": 13,
   "metadata": {},
   "outputs": [],
   "source": [
    "# memproses data null\n",
    "# mengisi kolom null dengan nilai mean\n",
    "fill_ketua = df['id_ketua'].mean()\n",
    "df['id_ketua'] = df['id_ketua'].fillna(fill_ketua)\n",
    "\n",
    "fill_anggota1 = df['id_anggota1'].mean()\n",
    "df['id_anggota1'] = df['id_anggota1'].fillna(fill_anggota1)\n",
    "\n",
    "fill_anggota2 = df['id_anggota2'].mean()\n",
    "df['id_anggota2'] = df['id_anggota2'].fillna(fill_anggota2)\n",
    "\n",
    "fill_anggota3 = df['id_anggota3'].mean()\n",
    "df['id_anggota3'] = df['id_anggota3'].fillna(fill_anggota3)\n",
    "\n",
    "fill_anggota4 = df['id_anggota4'].mean()\n",
    "df['id_anggota4'] = df['id_anggota4'].fillna(fill_anggota4)\n",
    "\n",
    "# menghapus kolom id_anggota5 karena sebagian besar kolom bersifat null\n",
    "df.drop('id_anggota5', axis=1, inplace=True)"
   ]
  },
  {
   "cell_type": "code",
   "execution_count": 14,
   "metadata": {},
   "outputs": [
    {
     "data": {
      "text/plain": [
       "id_ketua              0\n",
       "id_anggota1           0\n",
       "id_anggota2           0\n",
       "id_anggota3           0\n",
       "id_anggota4           0\n",
       "keterlibatan_vltr     0\n",
       "jml_vltr_terlibat     0\n",
       "tahun                 0\n",
       "skema                 0\n",
       "luaran_hki            0\n",
       "jenis_luaran_hki      0\n",
       "potensi_hki           0\n",
       "luaran_lain           0\n",
       "jenis_luaran_lain     0\n",
       "status_luaran_lain    0\n",
       "dtype: int64"
      ]
     },
     "execution_count": 14,
     "metadata": {},
     "output_type": "execute_result"
    }
   ],
   "source": [
    "#cek kembali nilai null\n",
    "df.isnull().sum()"
   ]
  },
  {
   "cell_type": "markdown",
   "metadata": {},
   "source": [
    "### 1. Pemilahan data training dan testing"
   ]
  },
  {
   "cell_type": "code",
   "execution_count": 19,
   "metadata": {},
   "outputs": [
    {
     "name": "stdout",
     "output_type": "stream",
     "text": [
      "Jumlah fold: 4\n",
      "Obyek KFold: KFold(n_splits=4, random_state=None, shuffle=False)\n",
      "Jumlah data df: 85\n",
      "Index train: [22 23 24 25 26 27 28 29 30 31 32 33 34 35 36 37 38 39 40 41 42 43 44 45\n",
      " 46 47 48 49 50 51 52 53 54 55 56 57 58 59 60 61 62 63 64 65 66 67 68 69\n",
      " 70 71 72 73 74 75 76 77 78 79 80 81 82 83 84] | Index test: [ 0  1  2  3  4  5  6  7  8  9 10 11 12 13 14 15 16 17 18 19 20 21]\n",
      "Index train: [ 0  1  2  3  4  5  6  7  8  9 10 11 12 13 14 15 16 17 18 19 20 21 43 44\n",
      " 45 46 47 48 49 50 51 52 53 54 55 56 57 58 59 60 61 62 63 64 65 66 67 68\n",
      " 69 70 71 72 73 74 75 76 77 78 79 80 81 82 83 84] | Index test: [22 23 24 25 26 27 28 29 30 31 32 33 34 35 36 37 38 39 40 41 42]\n",
      "Index train: [ 0  1  2  3  4  5  6  7  8  9 10 11 12 13 14 15 16 17 18 19 20 21 22 23\n",
      " 24 25 26 27 28 29 30 31 32 33 34 35 36 37 38 39 40 41 42 64 65 66 67 68\n",
      " 69 70 71 72 73 74 75 76 77 78 79 80 81 82 83 84] | Index test: [43 44 45 46 47 48 49 50 51 52 53 54 55 56 57 58 59 60 61 62 63]\n",
      "Index train: [ 0  1  2  3  4  5  6  7  8  9 10 11 12 13 14 15 16 17 18 19 20 21 22 23\n",
      " 24 25 26 27 28 29 30 31 32 33 34 35 36 37 38 39 40 41 42 43 44 45 46 47\n",
      " 48 49 50 51 52 53 54 55 56 57 58 59 60 61 62 63] | Index test: [64 65 66 67 68 69 70 71 72 73 74 75 76 77 78 79 80 81 82 83 84]\n"
     ]
    }
   ],
   "source": [
    "# Implementasi k-fold cross validation (random) dengan training dan testing saja\n",
    "from sklearn.model_selection import KFold\n",
    "\n",
    "# inisiasi obyek kfold\n",
    "kf = KFold(n_splits=4)\n",
    "print(f'Jumlah fold: {kf.get_n_splits()}')\n",
    "print(f'Obyek KFold: {kf}')\n",
    "\n",
    "# Lakukan splitting dengan KFold\n",
    "kf_split = kf.split(df)\n",
    "print(f'Jumlah data df: {df.shape[0]}')\n",
    "\n",
    "# cek index data tiap fold\n",
    "for train_index, test_index in kf_split:\n",
    "    print(f'Index train: {train_index} | Index test: {test_index}')"
   ]
  },
  {
   "cell_type": "markdown",
   "metadata": {},
   "source": [
    "### 2. Menentukan data validasi"
   ]
  },
  {
   "cell_type": "code",
   "execution_count": 20,
   "metadata": {},
   "outputs": [
    {
     "name": "stdout",
     "output_type": "stream",
     "text": [
      "Jumlah fold: 4\n",
      "Obyek KFold: KFold(n_splits=4, random_state=None, shuffle=False)\n",
      "Jumlah data df_train: 68\n",
      "Index train: [17 18 19 20 21 22 23 24 25 26 27 28 29 30 31 32 33 34 35 36 37 38 39 40\n",
      " 41 42 43 44 45 46 47 48 49 50 51 52 53 54 55 56 57 58 59 60 61 62 63 64\n",
      " 65 66 67] | Index test: [ 0  1  2  3  4  5  6  7  8  9 10 11 12 13 14 15 16]\n",
      "Index train: [ 0  1  2  3  4  5  6  7  8  9 10 11 12 13 14 15 16 34 35 36 37 38 39 40\n",
      " 41 42 43 44 45 46 47 48 49 50 51 52 53 54 55 56 57 58 59 60 61 62 63 64\n",
      " 65 66 67] | Index test: [17 18 19 20 21 22 23 24 25 26 27 28 29 30 31 32 33]\n",
      "Index train: [ 0  1  2  3  4  5  6  7  8  9 10 11 12 13 14 15 16 17 18 19 20 21 22 23\n",
      " 24 25 26 27 28 29 30 31 32 33 51 52 53 54 55 56 57 58 59 60 61 62 63 64\n",
      " 65 66 67] | Index test: [34 35 36 37 38 39 40 41 42 43 44 45 46 47 48 49 50]\n",
      "Index train: [ 0  1  2  3  4  5  6  7  8  9 10 11 12 13 14 15 16 17 18 19 20 21 22 23\n",
      " 24 25 26 27 28 29 30 31 32 33 34 35 36 37 38 39 40 41 42 43 44 45 46 47\n",
      " 48 49 50] | Index test: [51 52 53 54 55 56 57 58 59 60 61 62 63 64 65 66 67]\n"
     ]
    }
   ],
   "source": [
    "# Implementasi k-fold cross validation (random) dengan training, validation, dan testing data\n",
    "from sklearn.model_selection import train_test_split, KFold\n",
    "\n",
    "# Split dulu antara data training dan testing dengan train_test_split\n",
    "# Rasio 8:2 untuk training dan testing\n",
    "df_train, df_test = train_test_split(df, test_size=0.2, random_state=0)\n",
    "\n",
    "# inisiasi obyek kfold\n",
    "kf2 = KFold(n_splits=4)\n",
    "print(f'Jumlah fold: {kf2.get_n_splits()}')\n",
    "print(f'Obyek KFold: {kf2}')\n",
    "\n",
    "# Lakukan splitting dengan KFold untuk data df_training\n",
    "# Dengan acara ini, kita masih memiliki data testing untuk keperluan pengujian model\n",
    "# namun tetap dapat melakukan evaluasi dengan menggunakan data validasi\n",
    "kf2_split = kf2.split(df_train)\n",
    "print(f'Jumlah data df_train: {df_train.shape[0]}')\n",
    "\n",
    "# cek index data tiap fold\n",
    "for train_index, test_index in kf2_split:\n",
    "    print(f'Index train: {train_index} | Index test: {test_index}')"
   ]
  },
  {
   "cell_type": "markdown",
   "metadata": {},
   "source": [
    "### 3. Menentukan kolom yang menjadi \"label\""
   ]
  },
  {
   "cell_type": "code",
   "execution_count": 21,
   "metadata": {},
   "outputs": [
    {
     "data": {
      "text/html": [
       "<div>\n",
       "<style scoped>\n",
       "    .dataframe tbody tr th:only-of-type {\n",
       "        vertical-align: middle;\n",
       "    }\n",
       "\n",
       "    .dataframe tbody tr th {\n",
       "        vertical-align: top;\n",
       "    }\n",
       "\n",
       "    .dataframe thead th {\n",
       "        text-align: right;\n",
       "    }\n",
       "</style>\n",
       "<table border=\"1\" class=\"dataframe\">\n",
       "  <thead>\n",
       "    <tr style=\"text-align: right;\">\n",
       "      <th></th>\n",
       "      <th>jml_vltr_terlibat</th>\n",
       "      <th>tahun</th>\n",
       "      <th>skema</th>\n",
       "      <th>luaran_hki</th>\n",
       "      <th>jenis_luaran_hki</th>\n",
       "      <th>potensi_hki</th>\n",
       "      <th>luaran_lain</th>\n",
       "      <th>jenis_luaran_lain</th>\n",
       "      <th>status_luaran_lain</th>\n",
       "    </tr>\n",
       "  </thead>\n",
       "  <tbody>\n",
       "    <tr>\n",
       "      <th>0</th>\n",
       "      <td>0</td>\n",
       "      <td>2019</td>\n",
       "      <td>REGULER</td>\n",
       "      <td>TIDAK ADA</td>\n",
       "      <td>TIDAK ADA</td>\n",
       "      <td>TIDAK</td>\n",
       "      <td>TIDAK ADA</td>\n",
       "      <td>TIDAK ADA</td>\n",
       "      <td>TIDAK ADA</td>\n",
       "    </tr>\n",
       "    <tr>\n",
       "      <th>1</th>\n",
       "      <td>0</td>\n",
       "      <td>2019</td>\n",
       "      <td>REGULER</td>\n",
       "      <td>TIDAK ADA</td>\n",
       "      <td>TIDAK ADA</td>\n",
       "      <td>TIDAK</td>\n",
       "      <td>TIDAK ADA</td>\n",
       "      <td>TIDAK ADA</td>\n",
       "      <td>TIDAK ADA</td>\n",
       "    </tr>\n",
       "    <tr>\n",
       "      <th>2</th>\n",
       "      <td>0</td>\n",
       "      <td>2019</td>\n",
       "      <td>REGULER</td>\n",
       "      <td>TIDAK ADA</td>\n",
       "      <td>TIDAK ADA</td>\n",
       "      <td>TIDAK</td>\n",
       "      <td>TIDAK ADA</td>\n",
       "      <td>TIDAK ADA</td>\n",
       "      <td>TIDAK ADA</td>\n",
       "    </tr>\n",
       "    <tr>\n",
       "      <th>3</th>\n",
       "      <td>0</td>\n",
       "      <td>2019</td>\n",
       "      <td>REGULER</td>\n",
       "      <td>TIDAK ADA</td>\n",
       "      <td>TIDAK ADA</td>\n",
       "      <td>TIDAK</td>\n",
       "      <td>TIDAK ADA</td>\n",
       "      <td>TIDAK ADA</td>\n",
       "      <td>TIDAK ADA</td>\n",
       "    </tr>\n",
       "    <tr>\n",
       "      <th>4</th>\n",
       "      <td>0</td>\n",
       "      <td>2019</td>\n",
       "      <td>REGULER</td>\n",
       "      <td>TIDAK ADA</td>\n",
       "      <td>TIDAK ADA</td>\n",
       "      <td>TIDAK</td>\n",
       "      <td>TIDAK ADA</td>\n",
       "      <td>TIDAK ADA</td>\n",
       "      <td>TIDAK ADA</td>\n",
       "    </tr>\n",
       "  </tbody>\n",
       "</table>\n",
       "</div>"
      ],
      "text/plain": [
       "   jml_vltr_terlibat  tahun    skema luaran_hki jenis_luaran_hki potensi_hki  \\\n",
       "0                  0   2019  REGULER  TIDAK ADA        TIDAK ADA       TIDAK   \n",
       "1                  0   2019  REGULER  TIDAK ADA        TIDAK ADA       TIDAK   \n",
       "2                  0   2019  REGULER  TIDAK ADA        TIDAK ADA       TIDAK   \n",
       "3                  0   2019  REGULER  TIDAK ADA        TIDAK ADA       TIDAK   \n",
       "4                  0   2019  REGULER  TIDAK ADA        TIDAK ADA       TIDAK   \n",
       "\n",
       "  luaran_lain jenis_luaran_lain status_luaran_lain  \n",
       "0   TIDAK ADA         TIDAK ADA          TIDAK ADA  \n",
       "1   TIDAK ADA         TIDAK ADA          TIDAK ADA  \n",
       "2   TIDAK ADA         TIDAK ADA          TIDAK ADA  \n",
       "3   TIDAK ADA         TIDAK ADA          TIDAK ADA  \n",
       "4   TIDAK ADA         TIDAK ADA          TIDAK ADA  "
      ]
     },
     "execution_count": 21,
     "metadata": {},
     "output_type": "execute_result"
    }
   ],
   "source": [
    "# memisahkan label dan fitur\n",
    "X = df.iloc[:,6:16]\n",
    "y = df['tahun']\n",
    "X.head()"
   ]
  },
  {
   "cell_type": "markdown",
   "metadata": {},
   "source": [
    "Mengubah data menjadi numerik dengan melakukan Label Encoder"
   ]
  },
  {
   "cell_type": "code",
   "execution_count": 22,
   "metadata": {},
   "outputs": [
    {
     "data": {
      "text/html": [
       "<div>\n",
       "<style scoped>\n",
       "    .dataframe tbody tr th:only-of-type {\n",
       "        vertical-align: middle;\n",
       "    }\n",
       "\n",
       "    .dataframe tbody tr th {\n",
       "        vertical-align: top;\n",
       "    }\n",
       "\n",
       "    .dataframe thead th {\n",
       "        text-align: right;\n",
       "    }\n",
       "</style>\n",
       "<table border=\"1\" class=\"dataframe\">\n",
       "  <thead>\n",
       "    <tr style=\"text-align: right;\">\n",
       "      <th></th>\n",
       "      <th>jml_vltr_terlibat</th>\n",
       "      <th>tahun</th>\n",
       "      <th>skema</th>\n",
       "      <th>luaran_hki</th>\n",
       "      <th>jenis_luaran_hki</th>\n",
       "      <th>potensi_hki</th>\n",
       "      <th>luaran_lain</th>\n",
       "      <th>jenis_luaran_lain</th>\n",
       "      <th>status_luaran_lain</th>\n",
       "    </tr>\n",
       "  </thead>\n",
       "  <tbody>\n",
       "    <tr>\n",
       "      <th>0</th>\n",
       "      <td>0</td>\n",
       "      <td>0</td>\n",
       "      <td>1</td>\n",
       "      <td>1</td>\n",
       "      <td>1</td>\n",
       "      <td>2</td>\n",
       "      <td>0</td>\n",
       "      <td>3</td>\n",
       "      <td>1</td>\n",
       "    </tr>\n",
       "    <tr>\n",
       "      <th>1</th>\n",
       "      <td>0</td>\n",
       "      <td>0</td>\n",
       "      <td>1</td>\n",
       "      <td>1</td>\n",
       "      <td>1</td>\n",
       "      <td>2</td>\n",
       "      <td>0</td>\n",
       "      <td>3</td>\n",
       "      <td>1</td>\n",
       "    </tr>\n",
       "    <tr>\n",
       "      <th>2</th>\n",
       "      <td>0</td>\n",
       "      <td>0</td>\n",
       "      <td>1</td>\n",
       "      <td>1</td>\n",
       "      <td>1</td>\n",
       "      <td>2</td>\n",
       "      <td>0</td>\n",
       "      <td>3</td>\n",
       "      <td>1</td>\n",
       "    </tr>\n",
       "    <tr>\n",
       "      <th>3</th>\n",
       "      <td>0</td>\n",
       "      <td>0</td>\n",
       "      <td>1</td>\n",
       "      <td>1</td>\n",
       "      <td>1</td>\n",
       "      <td>2</td>\n",
       "      <td>0</td>\n",
       "      <td>3</td>\n",
       "      <td>1</td>\n",
       "    </tr>\n",
       "    <tr>\n",
       "      <th>4</th>\n",
       "      <td>0</td>\n",
       "      <td>0</td>\n",
       "      <td>1</td>\n",
       "      <td>1</td>\n",
       "      <td>1</td>\n",
       "      <td>2</td>\n",
       "      <td>0</td>\n",
       "      <td>3</td>\n",
       "      <td>1</td>\n",
       "    </tr>\n",
       "    <tr>\n",
       "      <th>...</th>\n",
       "      <td>...</td>\n",
       "      <td>...</td>\n",
       "      <td>...</td>\n",
       "      <td>...</td>\n",
       "      <td>...</td>\n",
       "      <td>...</td>\n",
       "      <td>...</td>\n",
       "      <td>...</td>\n",
       "      <td>...</td>\n",
       "    </tr>\n",
       "    <tr>\n",
       "      <th>80</th>\n",
       "      <td>3</td>\n",
       "      <td>3</td>\n",
       "      <td>1</td>\n",
       "      <td>1</td>\n",
       "      <td>1</td>\n",
       "      <td>2</td>\n",
       "      <td>0</td>\n",
       "      <td>3</td>\n",
       "      <td>1</td>\n",
       "    </tr>\n",
       "    <tr>\n",
       "      <th>81</th>\n",
       "      <td>3</td>\n",
       "      <td>3</td>\n",
       "      <td>1</td>\n",
       "      <td>1</td>\n",
       "      <td>1</td>\n",
       "      <td>2</td>\n",
       "      <td>0</td>\n",
       "      <td>3</td>\n",
       "      <td>1</td>\n",
       "    </tr>\n",
       "    <tr>\n",
       "      <th>82</th>\n",
       "      <td>3</td>\n",
       "      <td>3</td>\n",
       "      <td>1</td>\n",
       "      <td>1</td>\n",
       "      <td>1</td>\n",
       "      <td>2</td>\n",
       "      <td>0</td>\n",
       "      <td>3</td>\n",
       "      <td>1</td>\n",
       "    </tr>\n",
       "    <tr>\n",
       "      <th>83</th>\n",
       "      <td>3</td>\n",
       "      <td>3</td>\n",
       "      <td>1</td>\n",
       "      <td>1</td>\n",
       "      <td>1</td>\n",
       "      <td>2</td>\n",
       "      <td>0</td>\n",
       "      <td>3</td>\n",
       "      <td>1</td>\n",
       "    </tr>\n",
       "    <tr>\n",
       "      <th>84</th>\n",
       "      <td>0</td>\n",
       "      <td>3</td>\n",
       "      <td>1</td>\n",
       "      <td>1</td>\n",
       "      <td>1</td>\n",
       "      <td>2</td>\n",
       "      <td>0</td>\n",
       "      <td>3</td>\n",
       "      <td>1</td>\n",
       "    </tr>\n",
       "  </tbody>\n",
       "</table>\n",
       "<p>85 rows × 9 columns</p>\n",
       "</div>"
      ],
      "text/plain": [
       "    jml_vltr_terlibat  tahun  skema  luaran_hki  jenis_luaran_hki  \\\n",
       "0                   0      0      1           1                 1   \n",
       "1                   0      0      1           1                 1   \n",
       "2                   0      0      1           1                 1   \n",
       "3                   0      0      1           1                 1   \n",
       "4                   0      0      1           1                 1   \n",
       "..                ...    ...    ...         ...               ...   \n",
       "80                  3      3      1           1                 1   \n",
       "81                  3      3      1           1                 1   \n",
       "82                  3      3      1           1                 1   \n",
       "83                  3      3      1           1                 1   \n",
       "84                  0      3      1           1                 1   \n",
       "\n",
       "    potensi_hki  luaran_lain  jenis_luaran_lain  status_luaran_lain  \n",
       "0             2            0                  3                   1  \n",
       "1             2            0                  3                   1  \n",
       "2             2            0                  3                   1  \n",
       "3             2            0                  3                   1  \n",
       "4             2            0                  3                   1  \n",
       "..          ...          ...                ...                 ...  \n",
       "80            2            0                  3                   1  \n",
       "81            2            0                  3                   1  \n",
       "82            2            0                  3                   1  \n",
       "83            2            0                  3                   1  \n",
       "84            2            0                  3                   1  \n",
       "\n",
       "[85 rows x 9 columns]"
      ]
     },
     "metadata": {},
     "output_type": "display_data"
    },
    {
     "name": "stdout",
     "output_type": "stream",
     "text": [
      "[0 0 0 0 0 0 0 0 0 0 0 0 0 0 0 0 0 0 0 1 1 1 1 1 1 1 1 1 1 1 1 1 1 1 1 1 1\n",
      " 1 1 1 1 2 2 2 2 2 2 2 2 2 2 2 2 2 2 2 2 2 3 3 3 3 3 3 3 3 3 3 3 3 3 3 3 3\n",
      " 3 3 3 3 3 3 3 3 3 3 3]\n"
     ]
    },
    {
     "data": {
      "text/plain": [
       "(85, 9)"
      ]
     },
     "execution_count": 22,
     "metadata": {},
     "output_type": "execute_result"
    }
   ],
   "source": [
    "# Encode Fitur\n",
    "from sklearn.preprocessing import LabelEncoder\n",
    "\n",
    "def feature_encode(df):\n",
    "    encode = LabelEncoder()\n",
    "    for col in df:\n",
    "        df[col] = encode.fit_transform(df[col])\n",
    "    \n",
    "    return df\n",
    "\n",
    "X = feature_encode(X)\n",
    "display(X)\n",
    "\n",
    "# Encode Label\n",
    "encode = LabelEncoder()\n",
    "y = encode.fit_transform(y)\n",
    "print(y)\n",
    "X.shape"
   ]
  },
  {
   "cell_type": "markdown",
   "metadata": {},
   "source": [
    "### 4. Menerapkan dua jenis metode klasifikasi dan melakukan perbandingan akurasi"
   ]
  },
  {
   "cell_type": "markdown",
   "metadata": {},
   "source": [
    "<b>Decisson Tree Classifier</b>"
   ]
  },
  {
   "cell_type": "code",
   "execution_count": 30,
   "metadata": {},
   "outputs": [],
   "source": [
    "from sklearn.model_selection import train_test_split\n",
    "\n",
    "X_train, X_test, y_train, y_test = train_test_split(X, y, test_size=0.2, random_state=42)"
   ]
  },
  {
   "cell_type": "code",
   "execution_count": 31,
   "metadata": {},
   "outputs": [
    {
     "name": "stdout",
     "output_type": "stream",
     "text": [
      "Test set accuracy: 1.00\n",
      "Test set accuracy: 1.0\n"
     ]
    }
   ],
   "source": [
    "# Secara default, DecisionTreeClassifier dari scikit-learn akan menggunakan nilai \"Gini\" untuk kriteria\n",
    "# Terdapat beberapa \"hyperparamater\" yang dapat digunakan. Silahka baca dokumentasi\n",
    "# Pada kasus ini kita akan menggunakan parameter default\n",
    "from sklearn.metrics import accuracy_score\n",
    "from sklearn.tree import DecisionTreeClassifier\n",
    "dts = DecisionTreeClassifier()\n",
    "\n",
    "# Sesuaikan dt ke set training\n",
    "dts.fit(X_train, y_train)\n",
    "\n",
    "# Memprediksi label set test\n",
    "y_pred_dts = dts.predict(X_test)\n",
    "print(y_pred_dts)\n",
    "\n",
    "#  menghitung set accuracy\n",
    "acc_dts = accuracy_score(y_test, y_pred_dts)\n",
    "print(\"Test set accuracy: {:.2f}\".format(acc_dts))\n",
    "print(f\"Test set accuracy: {acc_dts}\")"
   ]
  },
  {
   "cell_type": "markdown",
   "metadata": {},
   "source": [
    "<b>Random Forest Classifier</b>"
   ]
  },
  {
   "cell_type": "code",
   "execution_count": 35,
   "metadata": {},
   "outputs": [
    {
     "name": "stdout",
     "output_type": "stream",
     "text": [
      "Test set accuracy: 0.94\n",
      "Test set accuracy: 0.9411764705882353\n"
     ]
    }
   ],
   "source": [
    "# Pada kasus kali ini kita akan menggunakan estimator pada RandomForest\n",
    "# Untuk detail parameter (hyperparameter) silahkan cek dokumentasi\n",
    "from sklearn.ensemble import RandomForestClassifier\n",
    "rf = RandomForestClassifier(n_estimators=10, random_state=1)\n",
    "\n",
    "# Sesuaikan dt ke set training\n",
    "rf.fit(X_train, y_train)\n",
    "\n",
    "# Memprediksi label set test\n",
    "y_pred_rf = rf.predict(X_test)\n",
    "print(y_pred_rf)\n",
    "\n",
    "#  menghitung set accuracy\n",
    "acc_rf = accuracy_score(y_test, y_pred_rf)\n",
    "print(\"Test set accuracy: {:.2f}\".format(acc_rf))\n",
    "print(f\"Test set accuracy: {acc_rf}\")"
   ]
  },
  {
   "cell_type": "markdown",
   "metadata": {},
   "source": [
    "### 5. Melakukan tunning hyperparameter berdasarkan hasil klasifikasi pada nomor 3 menggunakan metode Grid Search dan Random Search"
   ]
  },
  {
   "cell_type": "markdown",
   "metadata": {},
   "source": [
    "<b>Grid Search</b>\n",
    "\n",
    "Metode ini akan melakukan pencarian secara lengkap untuk memilih model. Dalam pendekatan ini, setiap kombinasi nilai hyperparameter dicoba yang bisa sangat tidak efisien."
   ]
  },
  {
   "cell_type": "code",
   "execution_count": 37,
   "metadata": {},
   "outputs": [
    {
     "name": "stdout",
     "output_type": "stream",
     "text": [
      "538 ms ± 59.6 ms per loop (mean ± std. dev. of 7 runs, 1 loop each)\n",
      "Hasil evaluasi: 1.0\n",
      "Konfigurasi hyperparameter: {'max_depth': 9, 'criterion': 'gini'}\n"
     ]
    }
   ],
   "source": [
    "from sklearn.tree import DecisionTreeClassifier\n",
    "from sklearn.model_selection import GridSearchCV\n",
    "\n",
    "# inisiasi model\n",
    "dt = DecisionTreeClassifier()\n",
    "\n",
    "# Definisikan hyperparameter yang akan digunakan\n",
    "# sklearn menerima dalam bentuk dictionary\n",
    "# nama hyperparamater HARUS SESUAI dengan dokumentasi sklearn\n",
    "params = {\n",
    "    'criterion': ['gini', 'entropy', 'log_loss'],\n",
    "    'max_depth': list(range(5,11))\n",
    "}\n",
    "\n",
    "# inisiasi random search berdasarkan nilai repeated k-fold dan hyperparameter\n",
    "random = RandomizedSearchCV(dt, param_distributions=params, n_jobs=-1, cv=kf2)\n",
    "\n",
    "# Fit / latih berdasarkan grid\n",
    "# %timeit merupakan magic command didalam ipython notebook\n",
    "# yang dapat kita gunakan untuk menghitung waktu komputasi\n",
    "# cara ini cukup efektif untuk melakukan evaluasi suatu algoritma atau prosedur\n",
    "%timeit random.fit(X, y)\n",
    "\n",
    "# Evaluasi dengan score\n",
    "score = random.score(X,y)\n",
    "\n",
    "print(f'Hasil evaluasi: {score}')\n",
    "print(f'Konfigurasi hyperparameter: {random.best_params_}')"
   ]
  },
  {
   "cell_type": "markdown",
   "metadata": {},
   "source": [
    "<b>Random Search</b>\n",
    "\n",
    "Metode ini bekerja dengan menyiapkan kisi nilai hyperparameter dan memilih kombinasi acak untuk melatih model dan skor. Random search memungkinkan untuk dapat mengontrol jumlah kombinasi parameter yang dicoba."
   ]
  },
  {
   "cell_type": "code",
   "execution_count": 36,
   "metadata": {},
   "outputs": [
    {
     "name": "stdout",
     "output_type": "stream",
     "text": [
      "534 ms ± 183 ms per loop (mean ± std. dev. of 7 runs, 1 loop each)\n",
      "Hasil evaluasi: 1.0\n",
      "Konfigurasi hyperparameter: {'max_depth': 10, 'criterion': 'log_loss'}\n"
     ]
    }
   ],
   "source": [
    "from sklearn.tree import DecisionTreeClassifier\n",
    "from sklearn.model_selection import RandomizedSearchCV\n",
    "\n",
    "# inisiasi model\n",
    "dt = DecisionTreeClassifier()\n",
    "\n",
    "# Definisikan hyperparameter yang akan digunakan\n",
    "# sklearn menerima dalam bentuk dictionary\n",
    "# nama hyperparamater HARUS SESUAI dengan dokumentasi sklearn\n",
    "params = {\n",
    "    'criterion': ['gini', 'entropy', 'log_loss'],\n",
    "    'max_depth': list(range(5,11))\n",
    "}\n",
    "\n",
    "# inisiasi random search berdasarkan nilai repeated k-fold dan hyperparameter\n",
    "random = RandomizedSearchCV(dt, param_distributions=params, n_jobs=-1, cv=kf2)\n",
    "\n",
    "# Fit / latih berdasarkan grid\n",
    "# %timeit merupakan magic command didalam ipython notebook\n",
    "# yang dapat kita gunakan untuk menghitung waktu komputasi\n",
    "# cara ini cukup efektif untuk melakukan evaluasi suatu algoritma atau prosedur\n",
    "%timeit random.fit(X, y)\n",
    "\n",
    "# Evaluasi dengan score\n",
    "score = random.score(X,y)\n",
    "\n",
    "print(f'Hasil evaluasi: {score}')\n",
    "print(f'Konfigurasi hyperparameter: {random.best_params_}')"
   ]
  },
  {
   "cell_type": "markdown",
   "metadata": {},
   "source": [
    "#### Kesimpulan\n",
    "\n",
    "Dari hasil tunning menggunakan dua metode yang berbeda, didapatkan hasil evaluasi yang sama yaitu 1. Menurut saya, metode <b>Grid Search</b> adalah metode yang paling baik karena dalam metode tersebut pencarian grid melihat setiap kemungkinan kombinasi hyperparameter untuk menemukan model terbaik. Sedangkan dalam metode <b>Random Search</b> dilakukan pencarian acak dengan hanya memilih dan menguji kombinasi hyperparameter acak."
   ]
  }
 ],
 "metadata": {
  "kernelspec": {
   "display_name": "Python 3.8.8 ('base')",
   "language": "python",
   "name": "python3"
  },
  "language_info": {
   "codemirror_mode": {
    "name": "ipython",
    "version": 3
   },
   "file_extension": ".py",
   "mimetype": "text/x-python",
   "name": "python",
   "nbconvert_exporter": "python",
   "pygments_lexer": "ipython3",
   "version": "3.8.8"
  },
  "orig_nbformat": 4,
  "vscode": {
   "interpreter": {
    "hash": "a21f9f9612dddc43ff5734f8a84754e4ceb4e706f4872e3a6b260b40c317c74b"
   }
  }
 },
 "nbformat": 4,
 "nbformat_minor": 2
}
